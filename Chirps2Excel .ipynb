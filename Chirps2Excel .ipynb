{
 "cells": [
  {
   "cell_type": "code",
   "execution_count": 1,
   "metadata": {},
   "outputs": [
    {
     "name": "stdout",
     "output_type": "stream",
     "text": [
      "Initialized\n"
     ]
    }
   ],
   "source": [
    "import ee\n",
    "import numpy as np\n",
    "import pandas as pd\n",
    "import matplotlib.pyplot as plt\n",
    "%matplotlib inline\n",
    " \n",
    "# Initialize the GEE\n",
    "ee.Initialize()\n",
    "\n",
    "print(\"Initialized\")"
   ]
  },
  {
   "cell_type": "code",
   "execution_count": 2,
   "metadata": {},
   "outputs": [
    {
     "name": "stdout",
     "output_type": "stream",
     "text": [
      "    id longitude latitude precipitation\n",
      "1    0   85.6768  26.8372        10.906\n",
      "2    1   85.6768  26.8372       41.7448\n",
      "3    2   85.6768  26.8372       25.0036\n",
      "4    3   85.6768  26.8372       63.2315\n",
      "5    4   85.6768  26.8372       64.4566\n",
      "6    5   85.6768  26.8372       155.105\n",
      "7    6   85.6768  26.8372       485.068\n",
      "8    7   85.6768  26.8372       196.471\n",
      "9    8   85.6768  26.8372       378.793\n",
      "10   9   85.6768  26.8372       22.0735\n",
      "11  10   85.6768  26.8372       4.30373\n",
      "12  11   85.6768  26.8372       11.4885\n"
     ]
    },
    {
     "ename": "NameError",
     "evalue": "name 'January' is not defined",
     "output_type": "error",
     "traceback": [
      "\u001b[1;31m---------------------------------------------------------------------------\u001b[0m",
      "\u001b[1;31mNameError\u001b[0m                                 Traceback (most recent call last)",
      "\u001b[1;32m<ipython-input-2-40e7a9bcef76>\u001b[0m in \u001b[0;36m<module>\u001b[1;34m\u001b[0m\n\u001b[0;32m     73\u001b[0m \u001b[1;33m\u001b[0m\u001b[0m\n\u001b[0;32m     74\u001b[0m \u001b[1;31m#chart size and data assign\u001b[0m\u001b[1;33m\u001b[0m\u001b[1;33m\u001b[0m\u001b[0m\n\u001b[1;32m---> 75\u001b[1;33m \u001b[0mplt\u001b[0m\u001b[1;33m.\u001b[0m\u001b[0mbar\u001b[0m\u001b[1;33m(\u001b[0m\u001b[0mJanuary\u001b[0m\u001b[1;33m[\u001b[0m\u001b[1;34m'id'\u001b[0m\u001b[1;33m]\u001b[0m\u001b[1;33m,\u001b[0m \u001b[0mJanuary\u001b[0m\u001b[1;33m[\u001b[0m\u001b[1;34m'precipitation'\u001b[0m\u001b[1;33m]\u001b[0m\u001b[1;33m,\u001b[0m \u001b[0mcolor\u001b[0m\u001b[1;33m=\u001b[0m\u001b[1;34m'#fa4b2a'\u001b[0m\u001b[1;33m)\u001b[0m\u001b[1;33m\u001b[0m\u001b[0m\n\u001b[0m\u001b[0;32m     76\u001b[0m \u001b[0mplt\u001b[0m\u001b[1;33m.\u001b[0m\u001b[0mrcParams\u001b[0m\u001b[1;33m[\u001b[0m\u001b[1;34m\"figure.figsize\"\u001b[0m\u001b[1;33m]\u001b[0m \u001b[1;33m=\u001b[0m \u001b[1;33m(\u001b[0m\u001b[1;36m10\u001b[0m\u001b[1;33m,\u001b[0m\u001b[1;36m7\u001b[0m\u001b[1;33m)\u001b[0m\u001b[1;33m\u001b[0m\u001b[0m\n\u001b[0;32m     77\u001b[0m \u001b[1;33m\u001b[0m\u001b[0m\n",
      "\u001b[1;31mNameError\u001b[0m: name 'January' is not defined"
     ]
    },
    {
     "name": "stderr",
     "output_type": "stream",
     "text": [
      "findfont: Font family ['normal'] not found. Falling back to DejaVu Sans.\n",
      "findfont: Font family ['normal'] not found. Falling back to DejaVu Sans.\n",
      "findfont: Font family ['normal'] not found. Falling back to DejaVu Sans.\n"
     ]
    },
    {
     "data": {
      "image/png": "[encoded data removed]",
      "text/plain": [
       "<Figure size 432x288 with 1 Axes>"
      ]
     },
     "metadata": {
      "needs_background": "light"
     },
     "output_type": "display_data"
    }
   ],
   "source": [
    "# import the RS products\n",
    "chirps = ee.ImageCollection('UCSB-CHG/CHIRPS/PENTAD')\n",
    " \n",
    "# Define time range\n",
    "startyear = 2019\n",
    "endyear = 2020\n",
    "\n",
    "# Set date in ee date format\n",
    "startdate = ee.Date.fromYMD(startyear,1,1)\n",
    "enddate = ee.Date.fromYMD(endyear+1,12,31)\n",
    "\n",
    " \n",
    "# create list for years\n",
    "years = range(startyear,endyear);\n",
    " \n",
    "# make a list with months\n",
    "months = range(1,13)\n",
    "\n",
    "#Filter to select Precipitation band\n",
    "PrecipitationChirps = chirps.filterDate(startdate, enddate).sort('system:time_start', False).select(\"precipitation\")\n",
    " \n",
    "# Define geograpic domain\n",
    "point = ee.Geometry.Point([85.68, 26.91])\n",
    " \n",
    "# calculate the monthly mean\n",
    "def MonthlyMean(imageCollection):\n",
    "    mylist = ee.List([])\n",
    "    for y in years:\n",
    "        for m in months:\n",
    "            w = imageCollection.filter(ee.Filter.calendarRange(y, y, 'year')).filter(ee.Filter.calendarRange(m, m, 'month')).sum()\n",
    "            #mylist = mylist.add(w)\n",
    "            mylist = mylist.add(w.set('year', y).set('month', m).set('date', ee.Date.fromYMD(y,m,1)).set('system:time_start',ee.Date.fromYMD(y,m,1)))\n",
    "    return ee.ImageCollection.fromImages(mylist)\n",
    " \n",
    "# run the calcMonthlyMean function\n",
    "monthlyChirps = ee.ImageCollection(MonthlyMean(PrecipitationChirps))\n",
    "\n",
    "\n",
    "# select the region of interest, 25000 is the cellsize in meters\n",
    "monthlyChirps = monthlyChirps.getRegion(point,25000,\"epsg:4326\").getInfo()\n",
    "\n",
    "\n",
    "# get january (index = 0)\n",
    "precipiation = pd.DataFrame(monthlyChirps, columns = monthlyChirps[0])\n",
    "\n",
    "\n",
    "# remove the first line\n",
    "precipiation = precipiation[1:]\n",
    "\n",
    "#to display the data\n",
    "print(precipiation[['id','longitude','latitude','precipitation']])\n",
    "\n",
    "\n",
    "#To export to CSV\n",
    "precipiation.to_csv (r'C:\\bikesh\\Code\\GEE\\mywork\\Chirps\\precipitation.csv', index = False, header=True)\n",
    "\n",
    "\n",
    "# To display the data in the chart\n",
    "#style the font size\n",
    "font = {'family' : 'normal',\n",
    "        'weight' : 'bold',\n",
    "        'size'   : 14}\n",
    "plt.rc('font', **font)\n",
    "\n",
    "#chart Title\n",
    "plt.title('Monthly Precipitaion')\n",
    "\n",
    "#chart lable for x axis\n",
    "plt.xlabel('Months')\n",
    "\n",
    "#chart lable for y axis\n",
    "plt.ylabel('Rainfall in mm')\n",
    "\n",
    "#chart size and data assign\n",
    "plt.bar(January['id'], January['precipitation'], color='#fa4b2a')\n",
    "plt.rcParams[\"figure.figsize\"] = (10,7)\n",
    "\n",
    "#export chart as png\n",
    "plt.savefig('precipitation.png')\n",
    "\n",
    "\n"
   ]
  },
  {
   "cell_type": "code",
   "execution_count": null,
   "metadata": {},
   "outputs": [],
   "source": []
  },
  {
   "cell_type": "code",
   "execution_count": null,
   "metadata": {},
   "outputs": [],
   "source": []
  }
 ],
 "metadata": {
  "kernelspec": {
   "display_name": "Python 3",
   "language": "python",
   "name": "python3"
  },
  "language_info": {
   "codemirror_mode": {
    "name": "ipython",
    "version": 3
   },
   "file_extension": ".py",
   "mimetype": "text/x-python",
   "name": "python",
   "nbconvert_exporter": "python",
   "pygments_lexer": "ipython3",
   "version": "3.6.4"
  }
 },
 "nbformat": 4,
 "nbformat_minor": 4
}
